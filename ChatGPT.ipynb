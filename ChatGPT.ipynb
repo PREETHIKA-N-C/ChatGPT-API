{
 "cells": [
  {
   "cell_type": "code",
   "execution_count": 1,
   "id": "2b37fcc0",
   "metadata": {},
   "outputs": [
    {
     "name": "stdout",
     "output_type": "stream",
     "text": [
      "Collecting pyChatGPT\n",
      "  Downloading pyChatGPT-0.4.3.3-py3-none-any.whl (23 kB)\n",
      "Collecting undetected-chromedriver>=3.2.1\n",
      "  Downloading undetected-chromedriver-3.2.1.tar.gz (60 kB)\n",
      "Collecting markdownify>=0.11.6\n",
      "  Downloading markdownify-0.11.6-py3-none-any.whl (16 kB)\n",
      "Requirement already satisfied: beautifulsoup4<5,>=4.9 in c:\\users\\ncpre\\anaconda3\\lib\\site-packages (from markdownify>=0.11.6->pyChatGPT) (4.11.1)\n",
      "Requirement already satisfied: six<2,>=1.15 in c:\\users\\ncpre\\anaconda3\\lib\\site-packages (from markdownify>=0.11.6->pyChatGPT) (1.16.0)\n",
      "Requirement already satisfied: soupsieve>1.2 in c:\\users\\ncpre\\anaconda3\\lib\\site-packages (from beautifulsoup4<5,>=4.9->markdownify>=0.11.6->pyChatGPT) (2.3.1)\n",
      "Collecting selenium>=4.0.0\n",
      "  Downloading selenium-4.8.0-py3-none-any.whl (6.3 MB)\n",
      "Requirement already satisfied: requests in c:\\users\\ncpre\\anaconda3\\lib\\site-packages (from undetected-chromedriver>=3.2.1->pyChatGPT) (2.27.1)\n",
      "Collecting websockets\n",
      "  Downloading websockets-10.4-cp39-cp39-win_amd64.whl (101 kB)\n",
      "Collecting trio-websocket~=0.9\n",
      "  Downloading trio_websocket-0.9.2-py3-none-any.whl (16 kB)\n",
      "Collecting trio~=0.17\n",
      "  Downloading trio-0.22.0-py3-none-any.whl (384 kB)\n",
      "Requirement already satisfied: certifi>=2021.10.8 in c:\\users\\ncpre\\anaconda3\\lib\\site-packages (from selenium>=4.0.0->undetected-chromedriver>=3.2.1->pyChatGPT) (2021.10.8)\n",
      "Requirement already satisfied: urllib3[socks]~=1.26 in c:\\users\\ncpre\\anaconda3\\lib\\site-packages (from selenium>=4.0.0->undetected-chromedriver>=3.2.1->pyChatGPT) (1.26.9)\n",
      "Requirement already satisfied: sortedcontainers in c:\\users\\ncpre\\anaconda3\\lib\\site-packages (from trio~=0.17->selenium>=4.0.0->undetected-chromedriver>=3.2.1->pyChatGPT) (2.4.0)\n",
      "Requirement already satisfied: sniffio in c:\\users\\ncpre\\anaconda3\\lib\\site-packages (from trio~=0.17->selenium>=4.0.0->undetected-chromedriver>=3.2.1->pyChatGPT) (1.2.0)\n",
      "Collecting exceptiongroup>=1.0.0rc9\n",
      "  Downloading exceptiongroup-1.1.0-py3-none-any.whl (14 kB)\n",
      "Collecting outcome\n",
      "  Downloading outcome-1.2.0-py2.py3-none-any.whl (9.7 kB)\n",
      "Collecting async-generator>=1.9\n",
      "  Downloading async_generator-1.10-py3-none-any.whl (18 kB)\n",
      "Requirement already satisfied: cffi>=1.14 in c:\\users\\ncpre\\anaconda3\\lib\\site-packages (from trio~=0.17->selenium>=4.0.0->undetected-chromedriver>=3.2.1->pyChatGPT) (1.15.0)\n",
      "Requirement already satisfied: attrs>=19.2.0 in c:\\users\\ncpre\\anaconda3\\lib\\site-packages (from trio~=0.17->selenium>=4.0.0->undetected-chromedriver>=3.2.1->pyChatGPT) (21.4.0)\n",
      "Requirement already satisfied: idna in c:\\users\\ncpre\\anaconda3\\lib\\site-packages (from trio~=0.17->selenium>=4.0.0->undetected-chromedriver>=3.2.1->pyChatGPT) (3.3)\n",
      "Requirement already satisfied: pycparser in c:\\users\\ncpre\\anaconda3\\lib\\site-packages (from cffi>=1.14->trio~=0.17->selenium>=4.0.0->undetected-chromedriver>=3.2.1->pyChatGPT) (2.21)\n",
      "Collecting wsproto>=0.14\n",
      "  Downloading wsproto-1.2.0-py3-none-any.whl (24 kB)\n",
      "Requirement already satisfied: PySocks!=1.5.7,<2.0,>=1.5.6 in c:\\users\\ncpre\\anaconda3\\lib\\site-packages (from urllib3[socks]~=1.26->selenium>=4.0.0->undetected-chromedriver>=3.2.1->pyChatGPT) (1.7.1)\n",
      "Collecting h11<1,>=0.9.0\n",
      "  Using cached h11-0.14.0-py3-none-any.whl (58 kB)\n",
      "Requirement already satisfied: charset-normalizer~=2.0.0 in c:\\users\\ncpre\\anaconda3\\lib\\site-packages (from requests->undetected-chromedriver>=3.2.1->pyChatGPT) (2.0.4)\n",
      "Building wheels for collected packages: undetected-chromedriver\n",
      "  Building wheel for undetected-chromedriver (setup.py): started\n",
      "  Building wheel for undetected-chromedriver (setup.py): finished with status 'done'Note: you may need to restart the kernel to use updated packages.\n",
      "  Created wheel for undetected-chromedriver: filename=undetected_chromedriver-3.2.1-py3-none-any.whl size=46456 sha256=e84147fea9b0ec44468dd2b3ee013496213b18ceb1064d88f73572ec711772c6\n",
      "  Stored in directory: c:\\users\\ncpre\\appdata\\local\\pip\\cache\\wheels\\3a\\3f\\41\\f1fb07e8ab363aa4ab6c51bf40ef66176e3daacd4b05fe4f1c\n",
      "Successfully built undetected-chromedriver\n",
      "\n",
      "Installing collected packages: outcome, h11, exceptiongroup, async-generator, wsproto, trio, trio-websocket, websockets, selenium, undetected-chromedriver, markdownify, pyChatGPT\n",
      "Successfully installed async-generator-1.10 exceptiongroup-1.1.0 h11-0.14.0 markdownify-0.11.6 outcome-1.2.0 pyChatGPT-0.4.3.3 selenium-4.8.0 trio-0.22.0 trio-websocket-0.9.2 undetected-chromedriver-3.2.1 websockets-10.4 wsproto-1.2.0\n"
     ]
    }
   ],
   "source": [
    "pip install pyChatGPT"
   ]
  },
  {
   "cell_type": "code",
   "execution_count": 3,
   "id": "fae75590",
   "metadata": {},
   "outputs": [],
   "source": [
    "from pyChatGPT import ChatGPT"
   ]
  },
  {
   "cell_type": "code",
   "execution_count": 4,
   "id": "ccbae7f1",
   "metadata": {},
   "outputs": [],
   "source": [
    "sessionToken = 'eyJhbGciOiJkaXIiLCJlbmMiOiJBMjU2R0NNIn0..uR4am8NmqnrttbGn.XG4qtrd0N8GVIlMOQb0lVIJ60dyJUuWZnxJqGdFC_8PjVpb1kVucnsPQdrorFVycP8zyiWB9hELxH6Hn5LVL-lBp8IUcO9SESiMSKVlUC3N3LeweN5geerQIimLv05sPPJgWsHwkP2gqGvLjXlh5J3S6xeEXYbYNEGn9IQiIC9tz4ol21LtzRSAnTm9fFKmCrKypClyoq9N2SR7986C7bCrOXEy3LIDyu_NGBEEXznoUWW_NoN4mYBKpSLYnhUyjLRmsKbwZkCUnLfYjQFGoXGG6SLx7aIETAWzjcN1O4y74fiJaRCZjJB4b6HRGxqJcLPDxaITyQoqRHLH_sSKF9CthtH4msdw3gRM-H9kdKc7N8P9sMueuRG5bnNsneEKc0kwafWGDPkFS1sroVto3uWAqVPntDDHsM9NSd4rQdQlLHmp8C8o_XT9HrlUpCNsv2caTtFfoQTWlb8FYQ2hSE8wS05iO3_TpkObE_EPze8EdoLg8VeDA9MuQv7-KwrvEV8yA6J0TFMCXOVgtkNUcIJRr38Ur8b_HhZ1cF49DR0bhGz4eUK0XcTeYgk-rmMG38NSWd78Vu13VvWtMGnvC94nglgU_wGQRbEWeBqAX2fp8vXRi4U6u95MiguqusWwoyqGFbxWG3f3gmv_CzmIxCVRMUOKbnZ4xQp8M1IZ3qJLb-vy3tZsFO1HCjQE9aegXz-J4n5XC4gVg9PSb4l8W6dT_ZaTx8QgPE0e3oJjAJl3vIuBZDhaf_4MEZxO7TZfq8ktLNEiS1hhXUSHR9iTl3b6NuRnQQsv10qht5CznZ85pipGPpHTlArTEyNJ45bsTsRNp5cmc1Kw8CLrPkl-QBqY5DL60LQ41M1ICJg_0IJLlBwxL4gznZ49nIzUDzRBOncYWoBZG89vAxfVU3c_ijhzwJmT-LthHXMHSl4Lj7A80fDk-AQrzXDae2g-1v4xkuD8RjkJn_E1bE4uuHSPgabgNWuAAtVJFjoBrHenlf6hM-NVefRvJ6O1okaFOi6pOSN6n0rbGBtEbx6grc72tE1yAC9t0ObgUYKV9aFEHQcKgogBW-0F5187sp27H2DyzDL46SmWs_OfDgjKmbX-PKGJigvsO0yUofdMAT0zQnEnsk2vvF5Ufyt_H3JUv6KbWw_VXGNQUDJMxz8vdI3LnSij-vlqkLmArwIakwhxxkrVf9jQRcYhYbJ0DlVVIRc7sqVnJkzG6gi_3lKm7u5eN1y34ZiXgGANNzXhGkEZCFNqxdeCJemDWjiTly69y0u-024o18uWMscczyrgSA5jSOz14OAZ2uqMMa9RLYwcoM1_Cq27-sTEOHp_p8QhUaF-Vy3qL848CUJX2NXGDi7jdWI3KVUW2c7oPspj3NDVW3fSLaT3nLnTkTZY6enIVh6XW7UTx24oKCivQe7XOYSr77VcQhW4CNovcLAqsgh9M5GRYy7BoWH5ijcK0zkhuUcjNRl9jYJu8nH6Ai2nEzR3zc7yHggh8_3NaSqE_t2H6REzQAIfNOFpacpxYkTJIOmPr1EN-w_JHRrRixU-9-XmBb14r2BSdni_WBFSHkZmJ-L6-NeUewJG1YJNhLXNfuNL3sl2frBFISzAixw-_kF_R0yKEEgj-Ae_OjQBa4J-7PUaFy4vUfudAjKdQZ4Sf2Qh-heisEtLeK_PqH9eSI-yPFiOKeMf59cwqpYOTeD9fSJhWQn2VUvIjOVFvehQl2eUmC0BGtHGb7BjBfC21NxLhy-CAUnmOgSCuMEALJwe80i6lOBJl5f2eVaskljJdLGZQ-bytJB9pG6A8tB0ZEdNNuy9tWXDnxj9OmCnhYVKOfUGnEDE6SACuHoI8ZtIrhVjV7TOF0AY-Q-avdFrVRnQkZ0vqyTMREW33HfzNP_epwgwAchYLL4kRMnerNJFyQZqQBSHP6U76olVjc4LGFD9T8edOdeY9Lkdu4IGMovcqeLY_8QAWcfaxySmgSEotalVeeQNvnRUe7H6Fkza02wHiBWy4wCSiKbndWRlNWvvN_89TA0bigf4Zmq45-MsAxfy54XurKjXY6sIAbmqg8zBRK0xVo2CgQ9IzCCDV2It_DGfGx9F2rz_yBQ80GTY8oQY-UTFC-E8ICiomyeH0jFsTlScB3BIN9igGwkjvVex1FACRzVQjo4Plj0GDRPN7FLar6QktRiup6EWHYctCy6d7T0aFXHQRjClBh7SQeCx282JQk1Zw9fbmOo7z_pTrmyViCFuylnHPsyCbCZN3TG1N0yX_pdiEKkMsdwLXbX2Ykx4Mu2jjarkquqjybLh84E6JWecbI2U5psbWY4j4068dr3BvTUe9OyL4jS94ZSpCMEiGY2l2Nmk0IjIa989m-qZbJrSX03VKuTsfYMxRCJmG-NFF2CKPfLEWiAMgc-a2phR7Lmz5VbeQOECvqcfg0cBWy674vPZk3WZ4RmjKPCdK_CR3anOb06eVDB3JdeIv-uD9dltOGZDFXlWCYsci59aJ-BZ-Z_rTq0aqdW7yqQRdr9bsbeey5Paaa1KgX9G_XCuOMkVikG6y9gkvYslxJEMKEUTFHQqY-cC2n0fW4fo2nCaW_45jg-HN.uyA4G7smq_QRApaFp9ZkUA' \n",
    "API = ChatGPT(sessionToken)"
   ]
  },
  {
   "cell_type": "code",
   "execution_count": 7,
   "id": "9f198c55",
   "metadata": {},
   "outputs": [
    {
     "name": "stdout",
     "output_type": "stream",
     "text": [
      "{'message': 'Yes, ChatGPT can generate text in the Tamil language. However, its performance in generating text in Tamil may not be as good as its performance in generating text in other languages, including English, as its training data includes a larger amount of text in those languages.\\n\\n', 'conversation_id': '4a705629-3071-4468-980b-506f04d3799e'}\n"
     ]
    }
   ],
   "source": [
    "resp = API.send_message('Does ChatGPT Supports Tamil Language?')\n",
    "print(resp)"
   ]
  },
  {
   "cell_type": "code",
   "execution_count": 11,
   "id": "45d741e3",
   "metadata": {},
   "outputs": [
    {
     "name": "stdout",
     "output_type": "stream",
     "text": [
      "Is it possible to crack IELTS within a month?\n",
      "It is possible to prepare for the IELTS exam within a month, but cracking the exam in a month can be a challenge. IELTS is a comprehensive English language proficiency test that assesses four language skills - reading, writing, speaking, and listening. It requires a good understanding of the English language, including grammar, vocabulary, and pronunciation.\n",
      "\n",
      "To crack IELTS within a month, you would need to be highly motivated and dedicated to your preparation, as well as have a strong foundation in English. You can start by familiarizing yourself with the format of the exam and studying the relevant materials, such as IELTS preparation books, practice tests, and online resources. It is also important to practice speaking and writing in English as much as possible.\n",
      "\n",
      "However, it's important to keep in mind that the time needed for preparation can vary depending on the individual and their current level of English proficiency. A month may not be enough time for everyone to fully prepare for the exam and achieve the desired score.\n",
      "\n",
      "\n"
     ]
    }
   ],
   "source": [
    "resp = API.send_message(input())\n",
    "print(resp['message'])"
   ]
  },
  {
   "cell_type": "code",
   "execution_count": 15,
   "id": "d848dcd1",
   "metadata": {},
   "outputs": [],
   "source": [
    "#API.refresh_auth()\n",
    "API.reset_conversation()"
   ]
  }
 ],
 "metadata": {
  "kernelspec": {
   "display_name": "Python 3 (ipykernel)",
   "language": "python",
   "name": "python3"
  },
  "language_info": {
   "codemirror_mode": {
    "name": "ipython",
    "version": 3
   },
   "file_extension": ".py",
   "mimetype": "text/x-python",
   "name": "python",
   "nbconvert_exporter": "python",
   "pygments_lexer": "ipython3",
   "version": "3.9.12"
  }
 },
 "nbformat": 4,
 "nbformat_minor": 5
}
